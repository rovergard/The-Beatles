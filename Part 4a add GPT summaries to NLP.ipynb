{
 "cells": [
  {
   "attachments": {},
   "cell_type": "markdown",
   "metadata": {},
   "source": [
    "# I decided to add the OpenAI bit here to see if NLP valence measures act differently to a GPT-generaged summary of lyrics than to the lyrics themselves.\n"
   ]
  },
  {
   "cell_type": "code",
   "execution_count": 46,
   "metadata": {},
   "outputs": [],
   "source": [
    "##Step 0: Red in data and nltk\n",
    "\n",
    "df = pd.read_pickle('BeatlesSongsNLP.pkl')\n",
    "\n",
    "import pandas as pd\n",
    "import openai\n",
    "import os\n",
    "\n",
    "# Set your OpenAI API key as an environment variable\n",
    "#os.environ[\"OPENAI_API_KEY\"] = \"foo\"\n",
    "#os.environ[\"OPENAI_API_ORG\"] = \"bar\"\n",
    "\n",
    "\n",
    "# Get your OpenAI API key from the environment variable\n",
    "api_key = os.environ.get(\"OPENAI_API_KEY\")\n",
    "# api_org = os.environ.get(\"OPENAI_API_ORG\")\n",
    "\n",
    "# Print the API key to verify that it was retrieved correctly\n",
    "#print(api_key)\n"
   ]
  },
  {
   "cell_type": "code",
   "execution_count": 47,
   "metadata": {},
   "outputs": [],
   "source": [
    "openai.api_key = api_key\n",
    "#openai.organization = api_org\n",
    "\n"
   ]
  },
  {
   "cell_type": "code",
   "execution_count": 48,
   "metadata": {},
   "outputs": [
    {
     "data": {
      "text/plain": [
       "['ada',\n",
       " 'ada-code-search-code',\n",
       " 'ada-code-search-text',\n",
       " 'ada-search-document',\n",
       " 'ada-search-query',\n",
       " 'ada-similarity',\n",
       " 'babbage',\n",
       " 'babbage-code-search-code',\n",
       " 'babbage-code-search-text',\n",
       " 'babbage-search-document',\n",
       " 'babbage-search-query',\n",
       " 'babbage-similarity',\n",
       " 'code-davinci-edit-001',\n",
       " 'code-search-ada-code-001',\n",
       " 'code-search-ada-text-001',\n",
       " 'code-search-babbage-code-001',\n",
       " 'code-search-babbage-text-001',\n",
       " 'curie',\n",
       " 'curie-instruct-beta',\n",
       " 'curie-search-document',\n",
       " 'curie-search-query',\n",
       " 'curie-similarity',\n",
       " 'davinci',\n",
       " 'davinci-instruct-beta',\n",
       " 'davinci-search-document',\n",
       " 'davinci-search-query',\n",
       " 'davinci-similarity',\n",
       " 'gpt-3.5-turbo',\n",
       " 'gpt-3.5-turbo-0301',\n",
       " 'gpt-3.5-turbo-0613',\n",
       " 'gpt-3.5-turbo-16k',\n",
       " 'gpt-3.5-turbo-16k-0613',\n",
       " 'gpt-4',\n",
       " 'gpt-4-0314',\n",
       " 'gpt-4-0613',\n",
       " 'text-ada-001',\n",
       " 'text-babbage-001',\n",
       " 'text-curie-001',\n",
       " 'text-davinci-001',\n",
       " 'text-davinci-002',\n",
       " 'text-davinci-003',\n",
       " 'text-davinci-edit-001',\n",
       " 'text-embedding-ada-002',\n",
       " 'text-search-ada-doc-001',\n",
       " 'text-search-ada-query-001',\n",
       " 'text-search-babbage-doc-001',\n",
       " 'text-search-babbage-query-001',\n",
       " 'text-search-curie-doc-001',\n",
       " 'text-search-curie-query-001',\n",
       " 'text-search-davinci-doc-001',\n",
       " 'text-search-davinci-query-001',\n",
       " 'text-similarity-ada-001',\n",
       " 'text-similarity-babbage-001',\n",
       " 'text-similarity-curie-001',\n",
       " 'text-similarity-davinci-001',\n",
       " 'whisper-1']"
      ]
     },
     "execution_count": 48,
     "metadata": {},
     "output_type": "execute_result"
    }
   ],
   "source": [
    "#Get a list of which OpenAI models are available to me through the API\n",
    "\n",
    "response = openai.Model.list()\n",
    "model_list = [model['id'] for model in response['data']]\n",
    "model_list.sort()\n",
    "model_list\n"
   ]
  },
  {
   "cell_type": "code",
   "execution_count": 49,
   "metadata": {},
   "outputs": [],
   "source": [
    "## NOTE - this uses the older (soon to be depricated) API method for earlier LLMs. I'm including here for comparison purposes only\n",
    "\n",
    "\n",
    "def summarize_text_completion(text, model_engine):\n",
    "    prompt = (f\"Please summarize the following song lyrics:\\n{text}\\n\\nSummary:\")\n",
    "    response = openai.Completion.create(\n",
    "        engine=model_engine,\n",
    "        prompt=prompt,\n",
    "        max_tokens=300,\n",
    "        n=1,\n",
    "        stop=None,\n",
    "        temperature=0.5,\n",
    "    )\n",
    "    summary = response.choices[0].text.strip()\n",
    "    return summary\n",
    "\n",
    "# Use the model_engine as the column name\n",
    "model_engine = \"text-davinci-003\"\n",
    "df[model_engine] = df[\"lyrics\"].apply(lambda x: summarize_text_completion(x, model_engine))\n",
    "\n"
   ]
  },
  {
   "cell_type": "code",
   "execution_count": 57,
   "metadata": {},
   "outputs": [
    {
     "name": "stdout",
     "output_type": "stream",
     "text": [
      "0      The song reflects on the beauty of the univers...\n",
      "1      The lyrics of this song tell of a person's amb...\n",
      "2      The speaker is expressing their unconditional ...\n",
      "3      The singer is expressing their love and devoti...\n",
      "4      This song is about a person expressing their l...\n",
      "                             ...                        \n",
      "193    The song encourages everyone to come together ...\n",
      "194    The narrator is warning someone that if they d...\n",
      "195    The narrator is feeling dejected because their...\n",
      "196    The lyrics describe a person's journey to find...\n",
      "197    The song is about reminiscing on the past and ...\n",
      "Name: text-davinci-003, Length: 198, dtype: object\n"
     ]
    }
   ],
   "source": [
    "print(df[\"text-davinci-003\"])"
   ]
  },
  {
   "cell_type": "code",
   "execution_count": 54,
   "metadata": {},
   "outputs": [],
   "source": [
    "## Now use the newer API method for GPT-4 that is conversation based\n",
    "# ChatCompletion\n",
    "\n",
    "def summarize_ChatCompletion(text, model_engine):\n",
    "    response = openai.ChatCompletion.create(\n",
    "      model=model_engine,\n",
    "      messages=[\n",
    "            {\"role\": \"system\", \"content\": \"You are a helpful assistant.\"},\n",
    "            {\"role\": \"user\", \"content\": f\"Summarize the following lyrics for me: {text}. Begin each response with a valence score for the lyrics between -1 and 1. Your response should be begin with the valence score, then a comma, then the summary of the lyrics. Example: '0.80, This is a summary of the lyrics.'\"},\n",
    "        ]\n",
    "    )\n",
    "\n",
    "    # Return the content of the message from the assistant\n",
    "    return response['choices'][0]['message']['content']\n",
    "\n",
    "# Use the model_engine as the column name\n",
    "model_engine = \"gpt-4\"\n",
    "df[model_engine] = df[\"lyrics\"].apply(lambda x: summarize_ChatCompletion(x, model_engine))\n"
   ]
  },
  {
   "cell_type": "code",
   "execution_count": 56,
   "metadata": {},
   "outputs": [
    {
     "name": "stdout",
     "output_type": "stream",
     "text": [
      "0      0.50, The lyrics express a deep meditation and...\n",
      "1      0.60, The lyrics express the singer's aspirati...\n",
      "2      0.90, These lyrics express mutual affection an...\n",
      "3      0.90, The lyrics express longing and commitmen...\n",
      "4      0.90, These lyrics consist of a playful counti...\n",
      "                             ...                        \n",
      "193    0.90, These lyrics are about dancing and singi...\n",
      "194    0.5, The lyrics are a warning to someone about...\n",
      "195    -0.80, The lyrics convey a deep sense of sadne...\n",
      "196    0.85, The lyrics express the narrator's realiz...\n",
      "197    0.65, These lyrics express a longing for freed...\n",
      "Name: gpt-4, Length: 198, dtype: object\n"
     ]
    }
   ],
   "source": [
    "print(df[\"gpt-4\"])"
   ]
  },
  {
   "cell_type": "code",
   "execution_count": 58,
   "metadata": {},
   "outputs": [
    {
     "data": {
      "text/plain": [
       "Index(['Id', 'SongKey', 'song', 'songwriters', 'lead_vocals', 'year', 'cover',\n",
       "       'Era', 'first_release_date', 'max_key', 'mode', 'avg_danceability',\n",
       "       'avg_energy', 'avg_loudness', 'avg_speechiness', 'avg_acousticness',\n",
       "       'avg_instrumentalness', 'avg_liveness', 'avg_valence', 'avg_tempo',\n",
       "       'avg_duration_ms', 'avg_time_signature', 'Song_y', 'lyrics',\n",
       "       'avg_popularity', 'core_catalogue_releases', 'Canonical_album',\n",
       "       'first_vocalist', 'Paul_Song', 'John_Song', 'George_Song', 'Ringo_Song',\n",
       "       'popularity', 'BB_name', 'BB_artist', 'BB_debut_date',\n",
       "       'BB_peak_position', 'BB_peak_date', 'BB_weeks_on_chart',\n",
       "       'RollingStonePosition', 'RobSegment', 'LauraSegment', 'EmilySegment',\n",
       "       'OliviaSegment', 'BrianSegment', 'JackieSegment', 'vader_neg',\n",
       "       'vader_neu', 'vader_pos', 'vader_compound', 'roberta_neg',\n",
       "       'roberta_neu', 'roberta_pos', 'Pipeline_sentiment_label',\n",
       "       'Pipeline_sentiment_score', 'FinetunedSentiment', 'distilbertsentiment',\n",
       "       'text-davinci-003', 'gpt-4'],\n",
       "      dtype='object')"
      ]
     },
     "execution_count": 58,
     "metadata": {},
     "output_type": "execute_result"
    }
   ],
   "source": [
    "df.columns"
   ]
  },
  {
   "cell_type": "code",
   "execution_count": 62,
   "metadata": {},
   "outputs": [],
   "source": [
    "## I overlaoded the GPT-4 value to include both a sentiment score and the summary. This code splits the column into two columns, one for the sentiment score and one for the summary.\n",
    "\n",
    "\n",
    "# Split the column into two\n",
    "df[['GPT-4_valence_score', 'GPT4_summary']] = df['gpt-4'].str.split(', ', n=1, expand=True)\n",
    "\n",
    "# Convert the 'valence_score' column to numeric\n",
    "df['GPT-4_valence_score'] = pd.to_numeric(df['GPT-4_valence_score'])\n",
    "\n"
   ]
  },
  {
   "cell_type": "code",
   "execution_count": 69,
   "metadata": {},
   "outputs": [
    {
     "data": {
      "text/html": [
       "<div><div id=2e1eefa1-ef98-4d04-8a0f-5f4b68209de7 style=\"display:none; background-color:#9D6CFF; color:white; width:200px; height:30px; padding-left:5px; border-radius:4px; flex-direction:row; justify-content:space-around; align-items:center;\" onmouseover=\"this.style.backgroundColor='#BA9BF8'\" onmouseout=\"this.style.backgroundColor='#9D6CFF'\" onclick=\"window.commands?.execute('create-mitosheet-from-dataframe-output');\">See Full Dataframe in Mito</div> <script> if (window.commands?.hasCommand('create-mitosheet-from-dataframe-output')) document.getElementById('2e1eefa1-ef98-4d04-8a0f-5f4b68209de7').style.display = 'flex' </script> <table border=\"1\" class=\"dataframe\">\n",
       "  <thead>\n",
       "    <tr style=\"text-align: right;\">\n",
       "      <th></th>\n",
       "      <th>song</th>\n",
       "      <th>lyrics</th>\n",
       "      <th>text-davinci-003</th>\n",
       "      <th>GPT4_summary</th>\n",
       "      <th>GPT-4_valence_score</th>\n",
       "    </tr>\n",
       "  </thead>\n",
       "  <tbody>\n",
       "    <tr>\n",
       "      <th>0</th>\n",
       "      <td>Across the Universe</td>\n",
       "      <td>Words are flowing out like endless rain into a paper cup, They slither while they pass, they slip away across the universe Pools of sorrow, waves of joy are drifting through my open mind, Possessing and caressing me. Jai guru de va om Nothing's gonna change my world, Nothing's gonna change my world.  Images of broken light which dance before me like a million eyes, That call me on and on across the universe, Thoughts meander like a restless wind inside a letter box they Tumble blindly as they make their way Across the universe Jai guru de va om Nothing's gonna change my world, Nothing's gonna change my world.  Sounds of laughter shades of earth are ringing Through my open views inviting and inciting me Limitless undying love which shines around me like a Million suns, it calls me on and on Across the universe Jai guru de va om Nothing's gonna change my world, Nothing's gonna change my world.</td>\n",
       "      <td>The song reflects on the beauty of the universe and the feeling of limitless love that it conveys. It speaks of the power of words and how they can slip away, and of the emotions of sorrow and joy that come to mind. The chorus is a reminder that no matter what, nothing will change the world.</td>\n",
       "      <td>The lyrics express a deep meditation and introspection from the perspective of a calmed, untouchable mind. Powerful images like words flowing like endless rain, pools of sorrow, waves of joy, and broken light dancing suggest a contemplation of both the internal world of emotions and the external world of experience. Despite all the sensory claims and strong emotions sparked by these experiences, the singer insists that nothing can change their internal world. The recurring phrase \"Jai guru de va om\" is a mantra referring to a spiritual guide or enlightenment, further highlighting the theme of calm mental resolve amidst the chaotic flow of life's experiences.</td>\n",
       "      <td>0.50</td>\n",
       "    </tr>\n",
       "    <tr>\n",
       "      <th>1</th>\n",
       "      <td>Act Naturally</td>\n",
       "      <td>They're gonna put me in the movies They're gonna make a big star out of me We'll make a film about a man that's sad and lonely And all I gotta so is act naturally  Well, I'll bet you I'm gonna be a big star Might win an Oscar you can never tell The movies gonna make me a big star 'Cause I can plat the part so well  Well I hope you come and see me in the movies Then I know that you will plainly see The biggest fool that ever hit the big time And all I gotta do is act naturally  We'll make the scene about a man that's sad and lonely And beggin down upon his bended knee I'll play the part but I won't need rehearsal All I gotta do is act naturally  Well, I'll bet you I'm gonna be a big star Might win an Oscar you can never tell The movies gonna make me a big star 'Cause I can plat the part so well  Well I hope you come and see me in the movies Then I know that you will plainly see The biggest fool that ever hit the big time And all I gotta do is act naturally</td>\n",
       "      <td>The lyrics of this song tell of a person's ambition to become a movie star. They express confidence in their ability to act naturally and play the part well, and believe they could even win an Oscar. The song also expresses hope that the listener will come and see them in the movies, where they will be seen as the \"biggest fool that ever hit the big time\" but still be able to act naturally.</td>\n",
       "      <td>The lyrics express the singer's aspirations about becoming a big movie star by simply acting naturally. The singer believes they could potentially win an Oscar due to their acting skills. The role they play is of a sad and lonely man, a part that they feel they can authentically portray without needing any rehearsal. They hope the audience will recognize them in this role and see how they became successful by just being themselves. They also suggest that they might end up being perceived as the biggest fool to have ever become famous.</td>\n",
       "      <td>0.60</td>\n",
       "    </tr>\n",
       "    <tr>\n",
       "      <th>2</th>\n",
       "      <td>All I've Got to Do</td>\n",
       "      <td>Whenever I want you around, yeah. All I gotta do, Is call you on the phone, And you'll come running home, Yeah, that's all I gotta do.  And when I, I want to kiss you, yeah. All I gotta do, Is whisper in your ear The words you long to hear, And I'll be kissin' you.  And the same goes for me, Whenever you want me at all. I'll be here, yes I will, whenever you call. You just gotta call on me, yeah, You just gotta call on me.  And when I, I want to kiss you, yeah. All I gotta do, Is call you on the phone, And you'll come running home, Yeah, that's all I gotta do.  And the same goes for me, Whenever you want me at all. I'll be here, yes I will, whenever you call. You just gotta call on me, yeah, You just gotta call on me.</td>\n",
       "      <td>The speaker is expressing their unconditional love and devotion to someone, promising that they will always be there for them and come running when they call. They also promise to give them the words they long to hear and kiss them when they want.</td>\n",
       "      <td>These lyrics express mutual affection and availability between two people. They convey the message that no matter what or when, they can rely on each other. It emphasizes that a simple phone call or whisper in the ear is all it takes to summon the other's presence or affection. The repetitive phrase \"you just gotta call on me\" signifies a strong commitment to being there for each other regardless of the situation.</td>\n",
       "      <td>0.90</td>\n",
       "    </tr>\n",
       "    <tr>\n",
       "      <th>3</th>\n",
       "      <td>All My Loving</td>\n",
       "      <td>Close your eyes and I'll kiss you, Tomorrow I'll miss you; Remember I'll always be true. And then while I'm away, I'll write home ev'ry day, And I'll send all my loving to you.  I'll pretend That I'm kissingÂ  the lips I am missing And hope that my draems will come true. And then while I'm away, I'll write home ev'ry day, And I'll send all my loving to you.  All my loving I will send to you. All my loving, darling I'll be true.</td>\n",
       "      <td>The singer is expressing their love and devotion to their partner and promises to write home every day while they are away. They will pretend to be kissing the lips they are missing and hope their dreams will come true. They will send all their love and devotion to their partner and promise to always be true.</td>\n",
       "      <td>The lyrics express longing and commitment from a person towards his/her loved one. Even though they will be apart, the individual promises to remain faithful, write daily, and send his/her love. There's also a sense of hopeful longing as they dream of the kisses they miss.</td>\n",
       "      <td>0.90</td>\n",
       "    </tr>\n",
       "    <tr>\n",
       "      <th>4</th>\n",
       "      <td>All Together Now</td>\n",
       "      <td>One, two, three, four Can I have a little more? five, six, seven eight nine ten I love you.  A, B, C, D Can I bring my friend to tea? E, F, G H I J I love you.  Sail the ship, Jump the tree Skip the rope, Look at me  All together now....  Black, white, green, red Can I take my friend to bed? Pink, brown, yellow orange blue I love you  All together now....  Sail the ship, Jump the tree Skip the rope, Look at me  All together now....</td>\n",
       "      <td>This song is about a person expressing their love for someone else. They count from one to ten, recite the alphabet, and then list various colors. Throughout the song, the singer encourages the listener to join them in activities such as sailing a ship, jumping a tree, and skipping a rope, before finally declaring their love.</td>\n",
       "      <td>These lyrics consist of a playful counting and alphabet song, where the singer expresses their love and invites a friend to participate in different activities. The song also mentions various colors and ends with a call for unity and togetherness.</td>\n",
       "      <td>0.90</td>\n",
       "    </tr>\n",
       "    <tr>\n",
       "      <th>...</th>\n",
       "      <td>...</td>\n",
       "      <td>...</td>\n",
       "      <td>...</td>\n",
       "      <td>...</td>\n",
       "      <td>...</td>\n",
       "    </tr>\n",
       "    <tr>\n",
       "      <th>193</th>\n",
       "      <td>Your Mother Should Know</td>\n",
       "      <td>Let's all get up and dance to a song That was a hit before your mother was born. Though she was born a long, long time ago Your mother should know (Your mother should...) Your mother should know (...know.) Sing it again. Let's all get up and dance to a song That was a hit before your mother was born. Though she was born a long, long time ago Your mother should know (Your mother should...) Your mother should know (...know.) Lift up your hearts and sing me a song That was a hit before your mother was born. Though she was born a long, long time ago Your mother should know (Your mother should...) Your mother should know (Aaaah.) Your mother should know (Your mother should...) Your mother should know (Aaaah.) Sing it again. Da-da-da-da... Though she was born a long, long time ago Your mother should know (Your mother should...) Your mother should know (Yeah.) Your mother should know (Your mother should...) Your mother should know (Yeah.) Your mother should know (Your mother should...) Your mother should know (Yeah.)</td>\n",
       "      <td>The song encourages everyone to come together and dance to a song that was popular before their mother was born. Even though their mother was born a long time ago, the song suggests that she should still know the song. The chorus is repeated throughout the song, emphasizing the idea that the mother should know the song.</td>\n",
       "      <td>These lyrics are about dancing and singing to a song that was popular before the listener's mother was born. The repetition of \"your mother should know\" suggests a belief that despite the time lapse, the mother would still recognize and appreciate that classic song. There's a joyful and nostalgic vibe as the lyrics encourage everyone to celebrate old music.</td>\n",
       "      <td>0.90</td>\n",
       "    </tr>\n",
       "    <tr>\n",
       "      <th>194</th>\n",
       "      <td>You're Going to Lose That Girl</td>\n",
       "      <td>You're going to lose that girl, You're going to lose that girl. If you don't take her out tonight, She's going to change her mind, And I will take her out tonight, And I will treat her kind.  You're going to lose that girl, You're going to lose that girl. If you don't treat her right, my friend, You're going to find her gone, â€˜cause I will treat her right, and then You'll be the lonely one.  You're going to lose that girl, You're going to lose that girl. I'll make a point Of taking her away from you, yeah, The way you treat her what else can I do?  You're going to lose that girl, You're going to lose that girl. I'll make a point Of taking her away from you, yeah, The way you treat her what else can I do? If you don't take her out tonight, She's going to change her mind, And I will take her out tonight, And I will treat her kind. You're going to lose that girl, You're going to lose that girl</td>\n",
       "      <td>The narrator is warning someone that if they do not take their girl out tonight and treat her kindly, they will lose her to the narrator, who will take her out and treat her right. The narrator emphasizes this point by repeating the line \"You're going to lose that girl\" multiple times.</td>\n",
       "      <td>The lyrics are a warning to someone about their impending loss of their girlfriend due to their lack of kindness and attention towards her. The singer shows clear intention to win the girl's affections by treating her right and taking her out in contrast to what she currently experiences. The repeated phrase \"You're going to lose that girl\" emphasizes the certainty of the event if the current behavior continues.</td>\n",
       "      <td>0.50</td>\n",
       "    </tr>\n",
       "    <tr>\n",
       "      <th>195</th>\n",
       "      <td>You've Got to Hide Your Love Away</td>\n",
       "      <td>Here I stand head in hand Turn my face to the wall If she's gone I can't go on Feelin' two-foot small  Everywhere people stare Each and every day I can see them laugh at me And I hear them say  Hey you've got to hide your love away Hey you've got to hide your love away  How could I even try I can never win Hearing them, seeing them In the state I'm in  How could she say to me Love will find a way Gather round all you clowns Let me hear you say  Hey you've got to hide your love away Hey you've got to hide your love away</td>\n",
       "      <td>The narrator is feeling dejected because their love is not accepted, and they feel like they can never win. They are told to hide their love away, yet they still hope that somehow love will find a way.</td>\n",
       "      <td>The lyrics convey a deep sense of sadness and isolation. The singer feels rejected and ridiculed, following what appears to be a romantic breakup. Given the public mockery and personal despair, he feels compelled to suppress his emotions – specifically, his enduring love for the woman who has left him. Despite hoping that love will find a way, he feels helpless and pessimistic about his situation.</td>\n",
       "      <td>-0.80</td>\n",
       "    </tr>\n",
       "    <tr>\n",
       "      <th>196</th>\n",
       "      <td>Real Love</td>\n",
       "      <td>All my little plans and schemes Lost like some forgotten dream Seems like all I really was doing Was waiting for you  Just like little girls and boys Playing with their little toys Seems like all they really were doing Was waiting for you  Don't need to be alone No need to be alone  It's real love It's real, yes it's real love It's real  From this moment on I know Exactly where my life will go Seems that all I really was doing Was waiting for love  Don't need to be afraid No need to be afraid  It's real love It's real, yes it's real love It's real  Thought I'd been in love before, But in my heart I wanted more Seems like all I really was doing Was waiting for you  Don't need to be alone No need to be alone  It's real love Yes it's real, yes it's real love It's real, yes it's real love...</td>\n",
       "      <td>The lyrics describe a person's journey to finding real love. They have experienced love before, but their heart was still searching for something more. All their plans and dreams felt lost until they found real love, and from that moment on they knew where their life would go. The song reassures that they no longer need to be alone or afraid, as they have found real love.</td>\n",
       "      <td>The lyrics express the narrator's realization that their past actions and perceived desires were merely preparations for finding true love. They describe how they, like children playing with toys, were simply waiting for this essential experience. Now that they've found real love, they no longer feel the need to be alone or afraid. The narrator also recognizes that previous romantic experiences were not as fulfilling as they wanted because they were waiting for this special connection. The repeated assertion that 'it's real love' underscores the deep emotion and certainty they feel.</td>\n",
       "      <td>0.85</td>\n",
       "    </tr>\n",
       "    <tr>\n",
       "      <th>197</th>\n",
       "      <td>Free as a Bird</td>\n",
       "      <td>Free As A Bird, It's the next best thing to beÂ  Free as a bird. Home Home and dry Like a homing bird I fly,Â  As a bird on wing  Whatever happened to the life that we once knew Can we really live without each other? Where did we lose the touch That seemed to mean so much? It always made me feel so....  Free -- as a bird, It's the next best thing to be Free as a bird. Home Home and dry Like a homing bird I fly--as bird on wing  Whatever happened to the life that we once knew It Always made me feel soooo Free  Free as a bird It's the next best thing to be Free as a bird Free as a bird Free as a bird</td>\n",
       "      <td>The song is about reminiscing on the past and longing for the freedom that comes with it. It talks about the life that was once known and how it made the singer feel free. The chorus repeats that being free is the next best thing and that they feel like a homing bird flying home and dry.</td>\n",
       "      <td>These lyrics express a longing for freedom and a return home, reflecting on a past life. The speaker wonders what has happened to the life they once knew and contemplates how they've lost touch with something crucial that used to bring them significant joy. In all its essence, the song centers around hope and yearning for personal liberation and reunion.</td>\n",
       "      <td>0.65</td>\n",
       "    </tr>\n",
       "  </tbody>\n",
       "</table></div>"
      ],
      "text/plain": [
       "                                  song  \\\n",
       "0                  Across the Universe   \n",
       "1                        Act Naturally   \n",
       "2                   All I've Got to Do   \n",
       "3                        All My Loving   \n",
       "4                     All Together Now   \n",
       "..                                 ...   \n",
       "193            Your Mother Should Know   \n",
       "194     You're Going to Lose That Girl   \n",
       "195  You've Got to Hide Your Love Away   \n",
       "196                          Real Love   \n",
       "197                     Free as a Bird   \n",
       "\n",
       "                                                lyrics  \\\n",
       "0    Words are flowing out like endless rain into a...   \n",
       "1    They're gonna put me in the movies They're gon...   \n",
       "2    Whenever I want you around, yeah. All I gotta ...   \n",
       "3    Close your eyes and I'll kiss you, Tomorrow I'...   \n",
       "4    One, two, three, four Can I have a little more...   \n",
       "..                                                 ...   \n",
       "193  Let's all get up and dance to a song That was ...   \n",
       "194  You're going to lose that girl, You're going t...   \n",
       "195  Here I stand head in hand Turn my face to the ...   \n",
       "196  All my little plans and schemes Lost like some...   \n",
       "197  Free As A Bird, It's the next best thing to be...   \n",
       "\n",
       "                                      text-davinci-003  \\\n",
       "0    The song reflects on the beauty of the univers...   \n",
       "1    The lyrics of this song tell of a person's amb...   \n",
       "2    The speaker is expressing their unconditional ...   \n",
       "3    The singer is expressing their love and devoti...   \n",
       "4    This song is about a person expressing their l...   \n",
       "..                                                 ...   \n",
       "193  The song encourages everyone to come together ...   \n",
       "194  The narrator is warning someone that if they d...   \n",
       "195  The narrator is feeling dejected because their...   \n",
       "196  The lyrics describe a person's journey to find...   \n",
       "197  The song is about reminiscing on the past and ...   \n",
       "\n",
       "                                          GPT4_summary  GPT-4_valence_score  \n",
       "0    The lyrics express a deep meditation and intro...                 0.50  \n",
       "1    The lyrics express the singer's aspirations ab...                 0.60  \n",
       "2    These lyrics express mutual affection and avai...                 0.90  \n",
       "3    The lyrics express longing and commitment from...                 0.90  \n",
       "4    These lyrics consist of a playful counting and...                 0.90  \n",
       "..                                                 ...                  ...  \n",
       "193  These lyrics are about dancing and singing to ...                 0.90  \n",
       "194  The lyrics are a warning to someone about thei...                 0.50  \n",
       "195  The lyrics convey a deep sense of sadness and ...                -0.80  \n",
       "196  The lyrics express the narrator's realization ...                 0.85  \n",
       "197  These lyrics express a longing for freedom and...                 0.65  \n",
       "\n",
       "[198 rows x 5 columns]"
      ]
     },
     "execution_count": 69,
     "metadata": {},
     "output_type": "execute_result"
    }
   ],
   "source": [
    "pd.set_option('display.max_rows', 100)\n",
    "\n",
    "## Show me these columns in the dataframe: song, lyrics, text_davinci_003, gpt_4 \n",
    "df_LLM = df[[\"song\", \"lyrics\", \"text-davinci-003\", \"GPT4_summary\", \"GPT-4_valence_score\"]]\n",
    "df_LLM"
   ]
  },
  {
   "cell_type": "code",
   "execution_count": null,
   "metadata": {},
   "outputs": [],
   "source": []
  },
  {
   "cell_type": "code",
   "execution_count": 64,
   "metadata": {},
   "outputs": [],
   "source": [
    "pd.to_pickle(df, 'BeatlesSongsNLPwithGPT.pkl')"
   ]
  },
  {
   "cell_type": "code",
   "execution_count": 70,
   "metadata": {},
   "outputs": [],
   "source": [
    "df.to_csv('BeatlesSongsNLPwithGPT.csv', index=False) # dump processed file"
   ]
  },
  {
   "cell_type": "code",
   "execution_count": null,
   "metadata": {},
   "outputs": [],
   "source": []
  }
 ],
 "metadata": {
  "kernelspec": {
   "display_name": "Python 3",
   "language": "python",
   "name": "python3"
  },
  "language_info": {
   "codemirror_mode": {
    "name": "ipython",
    "version": 3
   },
   "file_extension": ".py",
   "mimetype": "text/x-python",
   "name": "python",
   "nbconvert_exporter": "python",
   "pygments_lexer": "ipython3",
   "version": "3.11.2"
  },
  "orig_nbformat": 4
 },
 "nbformat": 4,
 "nbformat_minor": 2
}
